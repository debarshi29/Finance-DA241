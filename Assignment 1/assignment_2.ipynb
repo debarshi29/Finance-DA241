{
 "cells": [
  {
   "cell_type": "code",
   "execution_count": 1,
   "id": "57797ade",
   "metadata": {},
   "outputs": [],
   "source": [
    "import warnings\n",
    "warnings.filterwarnings('ignore')"
   ]
  },
  {
   "cell_type": "code",
   "execution_count": 2,
   "id": "c8e61701",
   "metadata": {},
   "outputs": [
    {
     "name": "stderr",
     "output_type": "stream",
     "text": [
      "[*********************100%***********************]  10 of 10 completed\n"
     ]
    }
   ],
   "source": [
    "import yfinance as yf\n",
    "import pandas as pd\n",
    "\n",
    "# Download 10 stock data\n",
    "START_DATE = \"2023-08-30\"\n",
    "END_DATE = \"2025-08-30\"\n",
    "\n",
    "stocks = [\n",
    "    'HDFCBANK.NS',  # HDFC Bank Ltd.\n",
    "    'ITC.NS',       # ITC Ltd.      \n",
    "    'TCS.NS',       # Tata Consultancy Services\n",
    "    'RELIANCE.NS',  # Reliance Industries Ltd.\n",
    "    'COALINDIA.NS', # Coal India Ltd.\n",
    "    'INFY.NS',      # Infosys Ltd.\n",
    "    'BAJFINANCE.NS',# Bajaj Finance Ltd.\n",
    "    'ASIANPAINT.NS',# Asian Paints Ltd.\n",
    "    'LT.NS',        # Larsen & Toubro Ltd.\n",
    "    'BEL.NS'        # Bharat Electronics Ltd.\n",
    "]\n",
    "\n",
    "\n",
    "raw_data = yf.download(stocks, start = START_DATE, end = END_DATE)\n",
    "\n",
    "data = raw_data['Close']"
   ]
  },
  {
   "cell_type": "code",
   "execution_count": 3,
   "id": "6dd696b3",
   "metadata": {},
   "outputs": [
    {
     "data": {
      "text/html": [
       "<div>\n",
       "<style scoped>\n",
       "    .dataframe tbody tr th:only-of-type {\n",
       "        vertical-align: middle;\n",
       "    }\n",
       "\n",
       "    .dataframe tbody tr th {\n",
       "        vertical-align: top;\n",
       "    }\n",
       "\n",
       "    .dataframe thead th {\n",
       "        text-align: right;\n",
       "    }\n",
       "</style>\n",
       "<table border=\"1\" class=\"dataframe\">\n",
       "  <thead>\n",
       "    <tr style=\"text-align: right;\">\n",
       "      <th>Ticker</th>\n",
       "      <th>ASIANPAINT.NS</th>\n",
       "      <th>BAJFINANCE.NS</th>\n",
       "      <th>BEL.NS</th>\n",
       "      <th>COALINDIA.NS</th>\n",
       "      <th>HDFCBANK.NS</th>\n",
       "      <th>INFY.NS</th>\n",
       "      <th>ITC.NS</th>\n",
       "      <th>LT.NS</th>\n",
       "      <th>RELIANCE.NS</th>\n",
       "      <th>TCS.NS</th>\n",
       "    </tr>\n",
       "    <tr>\n",
       "      <th>Date</th>\n",
       "      <th></th>\n",
       "      <th></th>\n",
       "      <th></th>\n",
       "      <th></th>\n",
       "      <th></th>\n",
       "      <th></th>\n",
       "      <th></th>\n",
       "      <th></th>\n",
       "      <th></th>\n",
       "      <th></th>\n",
       "    </tr>\n",
       "  </thead>\n",
       "  <tbody>\n",
       "    <tr>\n",
       "      <th>2023-08-30</th>\n",
       "      <td>3222.138916</td>\n",
       "      <td>719.722412</td>\n",
       "      <td>132.162598</td>\n",
       "      <td>197.842957</td>\n",
       "      <td>770.242737</td>\n",
       "      <td>1362.069092</td>\n",
       "      <td>414.485626</td>\n",
       "      <td>2663.034668</td>\n",
       "      <td>1200.142334</td>\n",
       "      <td>3285.771240</td>\n",
       "    </tr>\n",
       "    <tr>\n",
       "      <th>2023-08-31</th>\n",
       "      <td>3184.389160</td>\n",
       "      <td>709.314880</td>\n",
       "      <td>130.836548</td>\n",
       "      <td>198.967316</td>\n",
       "      <td>766.705505</td>\n",
       "      <td>1362.353638</td>\n",
       "      <td>411.583862</td>\n",
       "      <td>2656.841553</td>\n",
       "      <td>1194.657837</td>\n",
       "      <td>3252.680664</td>\n",
       "    </tr>\n",
       "    <tr>\n",
       "      <th>2023-09-01</th>\n",
       "      <td>3187.763428</td>\n",
       "      <td>724.921143</td>\n",
       "      <td>135.404068</td>\n",
       "      <td>204.891785</td>\n",
       "      <td>768.291199</td>\n",
       "      <td>1370.326050</td>\n",
       "      <td>412.847534</td>\n",
       "      <td>2656.251709</td>\n",
       "      <td>1197.461914</td>\n",
       "      <td>3274.385986</td>\n",
       "    </tr>\n",
       "    <tr>\n",
       "      <th>2023-09-04</th>\n",
       "      <td>3164.291992</td>\n",
       "      <td>719.935303</td>\n",
       "      <td>138.056168</td>\n",
       "      <td>214.319077</td>\n",
       "      <td>773.097046</td>\n",
       "      <td>1390.493774</td>\n",
       "      <td>409.524536</td>\n",
       "      <td>2665.099121</td>\n",
       "      <td>1196.494141</td>\n",
       "      <td>3312.466797</td>\n",
       "    </tr>\n",
       "    <tr>\n",
       "      <th>2023-09-05</th>\n",
       "      <td>3152.311523</td>\n",
       "      <td>727.347290</td>\n",
       "      <td>137.221207</td>\n",
       "      <td>220.848953</td>\n",
       "      <td>768.388794</td>\n",
       "      <td>1403.591309</td>\n",
       "      <td>414.766449</td>\n",
       "      <td>2686.578125</td>\n",
       "      <td>1202.896973</td>\n",
       "      <td>3322.980469</td>\n",
       "    </tr>\n",
       "  </tbody>\n",
       "</table>\n",
       "</div>"
      ],
      "text/plain": [
       "Ticker      ASIANPAINT.NS  BAJFINANCE.NS      BEL.NS  COALINDIA.NS  \\\n",
       "Date                                                                 \n",
       "2023-08-30    3222.138916     719.722412  132.162598    197.842957   \n",
       "2023-08-31    3184.389160     709.314880  130.836548    198.967316   \n",
       "2023-09-01    3187.763428     724.921143  135.404068    204.891785   \n",
       "2023-09-04    3164.291992     719.935303  138.056168    214.319077   \n",
       "2023-09-05    3152.311523     727.347290  137.221207    220.848953   \n",
       "\n",
       "Ticker      HDFCBANK.NS      INFY.NS      ITC.NS        LT.NS  RELIANCE.NS  \\\n",
       "Date                                                                         \n",
       "2023-08-30   770.242737  1362.069092  414.485626  2663.034668  1200.142334   \n",
       "2023-08-31   766.705505  1362.353638  411.583862  2656.841553  1194.657837   \n",
       "2023-09-01   768.291199  1370.326050  412.847534  2656.251709  1197.461914   \n",
       "2023-09-04   773.097046  1390.493774  409.524536  2665.099121  1196.494141   \n",
       "2023-09-05   768.388794  1403.591309  414.766449  2686.578125  1202.896973   \n",
       "\n",
       "Ticker           TCS.NS  \n",
       "Date                     \n",
       "2023-08-30  3285.771240  \n",
       "2023-08-31  3252.680664  \n",
       "2023-09-01  3274.385986  \n",
       "2023-09-04  3312.466797  \n",
       "2023-09-05  3322.980469  "
      ]
     },
     "execution_count": 3,
     "metadata": {},
     "output_type": "execute_result"
    }
   ],
   "source": [
    "data.head()"
   ]
  },
  {
   "cell_type": "code",
   "execution_count": 4,
   "id": "555fb54e",
   "metadata": {},
   "outputs": [
    {
     "data": {
      "text/plain": [
       "Ticker\n",
       "ASIANPAINT.NS    494\n",
       "BAJFINANCE.NS    494\n",
       "BEL.NS           494\n",
       "COALINDIA.NS     494\n",
       "HDFCBANK.NS      494\n",
       "INFY.NS          494\n",
       "ITC.NS           494\n",
       "LT.NS            494\n",
       "RELIANCE.NS      494\n",
       "TCS.NS           494\n",
       "dtype: int64"
      ]
     },
     "execution_count": 4,
     "metadata": {},
     "output_type": "execute_result"
    }
   ],
   "source": [
    "data.count()"
   ]
  },
  {
   "cell_type": "code",
   "execution_count": 5,
   "id": "8eb3c1e0",
   "metadata": {},
   "outputs": [
    {
     "data": {
      "text/plain": [
       "np.False_"
      ]
     },
     "execution_count": 5,
     "metadata": {},
     "output_type": "execute_result"
    }
   ],
   "source": [
    "data.isnull().values.any()"
   ]
  },
  {
   "cell_type": "code",
   "execution_count": 6,
   "id": "a02a4cf0",
   "metadata": {},
   "outputs": [
    {
     "data": {
      "text/html": [
       "<div>\n",
       "<style scoped>\n",
       "    .dataframe tbody tr th:only-of-type {\n",
       "        vertical-align: middle;\n",
       "    }\n",
       "\n",
       "    .dataframe tbody tr th {\n",
       "        vertical-align: top;\n",
       "    }\n",
       "\n",
       "    .dataframe thead th {\n",
       "        text-align: right;\n",
       "    }\n",
       "</style>\n",
       "<table border=\"1\" class=\"dataframe\">\n",
       "  <thead>\n",
       "    <tr style=\"text-align: right;\">\n",
       "      <th>Ticker</th>\n",
       "      <th>ASIANPAINT.NS</th>\n",
       "      <th>BAJFINANCE.NS</th>\n",
       "      <th>BEL.NS</th>\n",
       "      <th>COALINDIA.NS</th>\n",
       "      <th>HDFCBANK.NS</th>\n",
       "      <th>INFY.NS</th>\n",
       "      <th>ITC.NS</th>\n",
       "      <th>LT.NS</th>\n",
       "      <th>RELIANCE.NS</th>\n",
       "      <th>TCS.NS</th>\n",
       "    </tr>\n",
       "    <tr>\n",
       "      <th>Date</th>\n",
       "      <th></th>\n",
       "      <th></th>\n",
       "      <th></th>\n",
       "      <th></th>\n",
       "      <th></th>\n",
       "      <th></th>\n",
       "      <th></th>\n",
       "      <th></th>\n",
       "      <th></th>\n",
       "      <th></th>\n",
       "    </tr>\n",
       "  </thead>\n",
       "  <tbody>\n",
       "    <tr>\n",
       "      <th>2023-08-30</th>\n",
       "      <td>3222.138916</td>\n",
       "      <td>719.722412</td>\n",
       "      <td>132.162598</td>\n",
       "      <td>197.842957</td>\n",
       "      <td>770.242737</td>\n",
       "      <td>1362.069092</td>\n",
       "      <td>414.485626</td>\n",
       "      <td>2663.034668</td>\n",
       "      <td>1200.142334</td>\n",
       "      <td>3285.771240</td>\n",
       "    </tr>\n",
       "    <tr>\n",
       "      <th>2023-08-31</th>\n",
       "      <td>3184.389160</td>\n",
       "      <td>709.314880</td>\n",
       "      <td>130.836548</td>\n",
       "      <td>198.967316</td>\n",
       "      <td>766.705505</td>\n",
       "      <td>1362.353638</td>\n",
       "      <td>411.583862</td>\n",
       "      <td>2656.841553</td>\n",
       "      <td>1194.657837</td>\n",
       "      <td>3252.680664</td>\n",
       "    </tr>\n",
       "    <tr>\n",
       "      <th>2023-09-01</th>\n",
       "      <td>3187.763428</td>\n",
       "      <td>724.921143</td>\n",
       "      <td>135.404068</td>\n",
       "      <td>204.891785</td>\n",
       "      <td>768.291199</td>\n",
       "      <td>1370.326050</td>\n",
       "      <td>412.847534</td>\n",
       "      <td>2656.251709</td>\n",
       "      <td>1197.461914</td>\n",
       "      <td>3274.385986</td>\n",
       "    </tr>\n",
       "    <tr>\n",
       "      <th>2023-09-04</th>\n",
       "      <td>3164.291992</td>\n",
       "      <td>719.935303</td>\n",
       "      <td>138.056168</td>\n",
       "      <td>214.319077</td>\n",
       "      <td>773.097046</td>\n",
       "      <td>1390.493774</td>\n",
       "      <td>409.524536</td>\n",
       "      <td>2665.099121</td>\n",
       "      <td>1196.494141</td>\n",
       "      <td>3312.466797</td>\n",
       "    </tr>\n",
       "    <tr>\n",
       "      <th>2023-09-05</th>\n",
       "      <td>3152.311523</td>\n",
       "      <td>727.347290</td>\n",
       "      <td>137.221207</td>\n",
       "      <td>220.848953</td>\n",
       "      <td>768.388794</td>\n",
       "      <td>1403.591309</td>\n",
       "      <td>414.766449</td>\n",
       "      <td>2686.578125</td>\n",
       "      <td>1202.896973</td>\n",
       "      <td>3322.980469</td>\n",
       "    </tr>\n",
       "  </tbody>\n",
       "</table>\n",
       "</div>"
      ],
      "text/plain": [
       "Ticker      ASIANPAINT.NS  BAJFINANCE.NS      BEL.NS  COALINDIA.NS  \\\n",
       "Date                                                                 \n",
       "2023-08-30    3222.138916     719.722412  132.162598    197.842957   \n",
       "2023-08-31    3184.389160     709.314880  130.836548    198.967316   \n",
       "2023-09-01    3187.763428     724.921143  135.404068    204.891785   \n",
       "2023-09-04    3164.291992     719.935303  138.056168    214.319077   \n",
       "2023-09-05    3152.311523     727.347290  137.221207    220.848953   \n",
       "\n",
       "Ticker      HDFCBANK.NS      INFY.NS      ITC.NS        LT.NS  RELIANCE.NS  \\\n",
       "Date                                                                         \n",
       "2023-08-30   770.242737  1362.069092  414.485626  2663.034668  1200.142334   \n",
       "2023-08-31   766.705505  1362.353638  411.583862  2656.841553  1194.657837   \n",
       "2023-09-01   768.291199  1370.326050  412.847534  2656.251709  1197.461914   \n",
       "2023-09-04   773.097046  1390.493774  409.524536  2665.099121  1196.494141   \n",
       "2023-09-05   768.388794  1403.591309  414.766449  2686.578125  1202.896973   \n",
       "\n",
       "Ticker           TCS.NS  \n",
       "Date                     \n",
       "2023-08-30  3285.771240  \n",
       "2023-08-31  3252.680664  \n",
       "2023-09-01  3274.385986  \n",
       "2023-09-04  3312.466797  \n",
       "2023-09-05  3322.980469  "
      ]
     },
     "execution_count": 6,
     "metadata": {},
     "output_type": "execute_result"
    }
   ],
   "source": [
    "estimation_data = data.iloc[:248] # using half of the data for estimating mu and sigma^2\n",
    "\n",
    "estimation_data.head()"
   ]
  },
  {
   "cell_type": "code",
   "execution_count": 7,
   "id": "57a0b4b4",
   "metadata": {},
   "outputs": [
    {
     "data": {
      "text/html": [
       "<div>\n",
       "<style scoped>\n",
       "    .dataframe tbody tr th:only-of-type {\n",
       "        vertical-align: middle;\n",
       "    }\n",
       "\n",
       "    .dataframe tbody tr th {\n",
       "        vertical-align: top;\n",
       "    }\n",
       "\n",
       "    .dataframe thead th {\n",
       "        text-align: right;\n",
       "    }\n",
       "</style>\n",
       "<table border=\"1\" class=\"dataframe\">\n",
       "  <thead>\n",
       "    <tr style=\"text-align: right;\">\n",
       "      <th>Ticker</th>\n",
       "      <th>ASIANPAINT.NS</th>\n",
       "      <th>BAJFINANCE.NS</th>\n",
       "      <th>BEL.NS</th>\n",
       "      <th>COALINDIA.NS</th>\n",
       "      <th>HDFCBANK.NS</th>\n",
       "      <th>INFY.NS</th>\n",
       "      <th>ITC.NS</th>\n",
       "      <th>LT.NS</th>\n",
       "      <th>RELIANCE.NS</th>\n",
       "      <th>TCS.NS</th>\n",
       "    </tr>\n",
       "    <tr>\n",
       "      <th>Date</th>\n",
       "      <th></th>\n",
       "      <th></th>\n",
       "      <th></th>\n",
       "      <th></th>\n",
       "      <th></th>\n",
       "      <th></th>\n",
       "      <th></th>\n",
       "      <th></th>\n",
       "      <th></th>\n",
       "      <th></th>\n",
       "    </tr>\n",
       "  </thead>\n",
       "  <tbody>\n",
       "    <tr>\n",
       "      <th>2023-08-30</th>\n",
       "      <td>NaN</td>\n",
       "      <td>NaN</td>\n",
       "      <td>NaN</td>\n",
       "      <td>NaN</td>\n",
       "      <td>NaN</td>\n",
       "      <td>NaN</td>\n",
       "      <td>NaN</td>\n",
       "      <td>NaN</td>\n",
       "      <td>NaN</td>\n",
       "      <td>NaN</td>\n",
       "    </tr>\n",
       "    <tr>\n",
       "      <th>2023-08-31</th>\n",
       "      <td>3222.138916</td>\n",
       "      <td>719.722412</td>\n",
       "      <td>132.162598</td>\n",
       "      <td>197.842957</td>\n",
       "      <td>770.242737</td>\n",
       "      <td>1362.069092</td>\n",
       "      <td>414.485626</td>\n",
       "      <td>2663.034668</td>\n",
       "      <td>1200.142334</td>\n",
       "      <td>3285.771240</td>\n",
       "    </tr>\n",
       "    <tr>\n",
       "      <th>2023-09-01</th>\n",
       "      <td>3184.389160</td>\n",
       "      <td>709.314880</td>\n",
       "      <td>130.836548</td>\n",
       "      <td>198.967316</td>\n",
       "      <td>766.705505</td>\n",
       "      <td>1362.353638</td>\n",
       "      <td>411.583862</td>\n",
       "      <td>2656.841553</td>\n",
       "      <td>1194.657837</td>\n",
       "      <td>3252.680664</td>\n",
       "    </tr>\n",
       "    <tr>\n",
       "      <th>2023-09-04</th>\n",
       "      <td>3187.763428</td>\n",
       "      <td>724.921143</td>\n",
       "      <td>135.404068</td>\n",
       "      <td>204.891785</td>\n",
       "      <td>768.291199</td>\n",
       "      <td>1370.326050</td>\n",
       "      <td>412.847534</td>\n",
       "      <td>2656.251709</td>\n",
       "      <td>1197.461914</td>\n",
       "      <td>3274.385986</td>\n",
       "    </tr>\n",
       "    <tr>\n",
       "      <th>2023-09-05</th>\n",
       "      <td>3164.291992</td>\n",
       "      <td>719.935303</td>\n",
       "      <td>138.056168</td>\n",
       "      <td>214.319077</td>\n",
       "      <td>773.097046</td>\n",
       "      <td>1390.493774</td>\n",
       "      <td>409.524536</td>\n",
       "      <td>2665.099121</td>\n",
       "      <td>1196.494141</td>\n",
       "      <td>3312.466797</td>\n",
       "    </tr>\n",
       "  </tbody>\n",
       "</table>\n",
       "</div>"
      ],
      "text/plain": [
       "Ticker      ASIANPAINT.NS  BAJFINANCE.NS      BEL.NS  COALINDIA.NS  \\\n",
       "Date                                                                 \n",
       "2023-08-30            NaN            NaN         NaN           NaN   \n",
       "2023-08-31    3222.138916     719.722412  132.162598    197.842957   \n",
       "2023-09-01    3184.389160     709.314880  130.836548    198.967316   \n",
       "2023-09-04    3187.763428     724.921143  135.404068    204.891785   \n",
       "2023-09-05    3164.291992     719.935303  138.056168    214.319077   \n",
       "\n",
       "Ticker      HDFCBANK.NS      INFY.NS      ITC.NS        LT.NS  RELIANCE.NS  \\\n",
       "Date                                                                         \n",
       "2023-08-30          NaN          NaN         NaN          NaN          NaN   \n",
       "2023-08-31   770.242737  1362.069092  414.485626  2663.034668  1200.142334   \n",
       "2023-09-01   766.705505  1362.353638  411.583862  2656.841553  1194.657837   \n",
       "2023-09-04   768.291199  1370.326050  412.847534  2656.251709  1197.461914   \n",
       "2023-09-05   773.097046  1390.493774  409.524536  2665.099121  1196.494141   \n",
       "\n",
       "Ticker           TCS.NS  \n",
       "Date                     \n",
       "2023-08-30          NaN  \n",
       "2023-08-31  3285.771240  \n",
       "2023-09-01  3252.680664  \n",
       "2023-09-04  3274.385986  \n",
       "2023-09-05  3312.466797  "
      ]
     },
     "execution_count": 7,
     "metadata": {},
     "output_type": "execute_result"
    }
   ],
   "source": [
    "estimation_data.shift(1).head()"
   ]
  },
  {
   "cell_type": "code",
   "execution_count": 8,
   "id": "7b07d13d",
   "metadata": {},
   "outputs": [],
   "source": [
    "returns = estimation_data - estimation_data.shift(1)"
   ]
  },
  {
   "cell_type": "code",
   "execution_count": 9,
   "id": "c7037a66",
   "metadata": {},
   "outputs": [
    {
     "data": {
      "text/html": [
       "<div>\n",
       "<style scoped>\n",
       "    .dataframe tbody tr th:only-of-type {\n",
       "        vertical-align: middle;\n",
       "    }\n",
       "\n",
       "    .dataframe tbody tr th {\n",
       "        vertical-align: top;\n",
       "    }\n",
       "\n",
       "    .dataframe thead th {\n",
       "        text-align: right;\n",
       "    }\n",
       "</style>\n",
       "<table border=\"1\" class=\"dataframe\">\n",
       "  <thead>\n",
       "    <tr style=\"text-align: right;\">\n",
       "      <th>Ticker</th>\n",
       "      <th>ASIANPAINT.NS</th>\n",
       "      <th>BAJFINANCE.NS</th>\n",
       "      <th>BEL.NS</th>\n",
       "      <th>COALINDIA.NS</th>\n",
       "      <th>HDFCBANK.NS</th>\n",
       "      <th>INFY.NS</th>\n",
       "      <th>ITC.NS</th>\n",
       "      <th>LT.NS</th>\n",
       "      <th>RELIANCE.NS</th>\n",
       "      <th>TCS.NS</th>\n",
       "    </tr>\n",
       "    <tr>\n",
       "      <th>Date</th>\n",
       "      <th></th>\n",
       "      <th></th>\n",
       "      <th></th>\n",
       "      <th></th>\n",
       "      <th></th>\n",
       "      <th></th>\n",
       "      <th></th>\n",
       "      <th></th>\n",
       "      <th></th>\n",
       "      <th></th>\n",
       "    </tr>\n",
       "  </thead>\n",
       "  <tbody>\n",
       "    <tr>\n",
       "      <th>2023-08-30</th>\n",
       "      <td>NaN</td>\n",
       "      <td>NaN</td>\n",
       "      <td>NaN</td>\n",
       "      <td>NaN</td>\n",
       "      <td>NaN</td>\n",
       "      <td>NaN</td>\n",
       "      <td>NaN</td>\n",
       "      <td>NaN</td>\n",
       "      <td>NaN</td>\n",
       "      <td>NaN</td>\n",
       "    </tr>\n",
       "    <tr>\n",
       "      <th>2023-08-31</th>\n",
       "      <td>-37.749756</td>\n",
       "      <td>-10.407532</td>\n",
       "      <td>-1.326050</td>\n",
       "      <td>1.124359</td>\n",
       "      <td>-3.537231</td>\n",
       "      <td>0.284546</td>\n",
       "      <td>-2.901764</td>\n",
       "      <td>-6.193115</td>\n",
       "      <td>-5.484497</td>\n",
       "      <td>-33.090576</td>\n",
       "    </tr>\n",
       "    <tr>\n",
       "      <th>2023-09-01</th>\n",
       "      <td>3.374268</td>\n",
       "      <td>15.606262</td>\n",
       "      <td>4.567520</td>\n",
       "      <td>5.924469</td>\n",
       "      <td>1.585693</td>\n",
       "      <td>7.972412</td>\n",
       "      <td>1.263672</td>\n",
       "      <td>-0.589844</td>\n",
       "      <td>2.804077</td>\n",
       "      <td>21.705322</td>\n",
       "    </tr>\n",
       "    <tr>\n",
       "      <th>2023-09-04</th>\n",
       "      <td>-23.471436</td>\n",
       "      <td>-4.985840</td>\n",
       "      <td>2.652100</td>\n",
       "      <td>9.427292</td>\n",
       "      <td>4.805847</td>\n",
       "      <td>20.167725</td>\n",
       "      <td>-3.322998</td>\n",
       "      <td>8.847412</td>\n",
       "      <td>-0.967773</td>\n",
       "      <td>38.080811</td>\n",
       "    </tr>\n",
       "    <tr>\n",
       "      <th>2023-09-05</th>\n",
       "      <td>-11.980469</td>\n",
       "      <td>7.411987</td>\n",
       "      <td>-0.834961</td>\n",
       "      <td>6.529877</td>\n",
       "      <td>-4.708252</td>\n",
       "      <td>13.097534</td>\n",
       "      <td>5.241913</td>\n",
       "      <td>21.479004</td>\n",
       "      <td>6.402832</td>\n",
       "      <td>10.513672</td>\n",
       "    </tr>\n",
       "  </tbody>\n",
       "</table>\n",
       "</div>"
      ],
      "text/plain": [
       "Ticker      ASIANPAINT.NS  BAJFINANCE.NS    BEL.NS  COALINDIA.NS  HDFCBANK.NS  \\\n",
       "Date                                                                            \n",
       "2023-08-30            NaN            NaN       NaN           NaN          NaN   \n",
       "2023-08-31     -37.749756     -10.407532 -1.326050      1.124359    -3.537231   \n",
       "2023-09-01       3.374268      15.606262  4.567520      5.924469     1.585693   \n",
       "2023-09-04     -23.471436      -4.985840  2.652100      9.427292     4.805847   \n",
       "2023-09-05     -11.980469       7.411987 -0.834961      6.529877    -4.708252   \n",
       "\n",
       "Ticker        INFY.NS    ITC.NS      LT.NS  RELIANCE.NS     TCS.NS  \n",
       "Date                                                                \n",
       "2023-08-30        NaN       NaN        NaN          NaN        NaN  \n",
       "2023-08-31   0.284546 -2.901764  -6.193115    -5.484497 -33.090576  \n",
       "2023-09-01   7.972412  1.263672  -0.589844     2.804077  21.705322  \n",
       "2023-09-04  20.167725 -3.322998   8.847412    -0.967773  38.080811  \n",
       "2023-09-05  13.097534  5.241913  21.479004     6.402832  10.513672  "
      ]
     },
     "execution_count": 9,
     "metadata": {},
     "output_type": "execute_result"
    }
   ],
   "source": [
    "returns.head()"
   ]
  },
  {
   "cell_type": "code",
   "execution_count": 10,
   "id": "9453dd82",
   "metadata": {},
   "outputs": [
    {
     "data": {
      "text/html": [
       "<div>\n",
       "<style scoped>\n",
       "    .dataframe tbody tr th:only-of-type {\n",
       "        vertical-align: middle;\n",
       "    }\n",
       "\n",
       "    .dataframe tbody tr th {\n",
       "        vertical-align: top;\n",
       "    }\n",
       "\n",
       "    .dataframe thead th {\n",
       "        text-align: right;\n",
       "    }\n",
       "</style>\n",
       "<table border=\"1\" class=\"dataframe\">\n",
       "  <thead>\n",
       "    <tr style=\"text-align: right;\">\n",
       "      <th>Ticker</th>\n",
       "      <th>ASIANPAINT.NS</th>\n",
       "      <th>BAJFINANCE.NS</th>\n",
       "      <th>BEL.NS</th>\n",
       "      <th>COALINDIA.NS</th>\n",
       "      <th>HDFCBANK.NS</th>\n",
       "      <th>INFY.NS</th>\n",
       "      <th>ITC.NS</th>\n",
       "      <th>LT.NS</th>\n",
       "      <th>RELIANCE.NS</th>\n",
       "      <th>TCS.NS</th>\n",
       "    </tr>\n",
       "    <tr>\n",
       "      <th>Date</th>\n",
       "      <th></th>\n",
       "      <th></th>\n",
       "      <th></th>\n",
       "      <th></th>\n",
       "      <th></th>\n",
       "      <th></th>\n",
       "      <th></th>\n",
       "      <th></th>\n",
       "      <th></th>\n",
       "      <th></th>\n",
       "    </tr>\n",
       "  </thead>\n",
       "  <tbody>\n",
       "    <tr>\n",
       "      <th>2023-08-31</th>\n",
       "      <td>-37.749756</td>\n",
       "      <td>-10.407532</td>\n",
       "      <td>-1.326050</td>\n",
       "      <td>1.124359</td>\n",
       "      <td>-3.537231</td>\n",
       "      <td>0.284546</td>\n",
       "      <td>-2.901764</td>\n",
       "      <td>-6.193115</td>\n",
       "      <td>-5.484497</td>\n",
       "      <td>-33.090576</td>\n",
       "    </tr>\n",
       "    <tr>\n",
       "      <th>2023-09-01</th>\n",
       "      <td>3.374268</td>\n",
       "      <td>15.606262</td>\n",
       "      <td>4.567520</td>\n",
       "      <td>5.924469</td>\n",
       "      <td>1.585693</td>\n",
       "      <td>7.972412</td>\n",
       "      <td>1.263672</td>\n",
       "      <td>-0.589844</td>\n",
       "      <td>2.804077</td>\n",
       "      <td>21.705322</td>\n",
       "    </tr>\n",
       "    <tr>\n",
       "      <th>2023-09-04</th>\n",
       "      <td>-23.471436</td>\n",
       "      <td>-4.985840</td>\n",
       "      <td>2.652100</td>\n",
       "      <td>9.427292</td>\n",
       "      <td>4.805847</td>\n",
       "      <td>20.167725</td>\n",
       "      <td>-3.322998</td>\n",
       "      <td>8.847412</td>\n",
       "      <td>-0.967773</td>\n",
       "      <td>38.080811</td>\n",
       "    </tr>\n",
       "    <tr>\n",
       "      <th>2023-09-05</th>\n",
       "      <td>-11.980469</td>\n",
       "      <td>7.411987</td>\n",
       "      <td>-0.834961</td>\n",
       "      <td>6.529877</td>\n",
       "      <td>-4.708252</td>\n",
       "      <td>13.097534</td>\n",
       "      <td>5.241913</td>\n",
       "      <td>21.479004</td>\n",
       "      <td>6.402832</td>\n",
       "      <td>10.513672</td>\n",
       "    </tr>\n",
       "    <tr>\n",
       "      <th>2023-09-06</th>\n",
       "      <td>1.955811</td>\n",
       "      <td>4.228394</td>\n",
       "      <td>-1.375137</td>\n",
       "      <td>0.389206</td>\n",
       "      <td>10.050659</td>\n",
       "      <td>-1.376343</td>\n",
       "      <td>4.071869</td>\n",
       "      <td>-2.457520</td>\n",
       "      <td>2.531128</td>\n",
       "      <td>0.532959</td>\n",
       "    </tr>\n",
       "  </tbody>\n",
       "</table>\n",
       "</div>"
      ],
      "text/plain": [
       "Ticker      ASIANPAINT.NS  BAJFINANCE.NS    BEL.NS  COALINDIA.NS  HDFCBANK.NS  \\\n",
       "Date                                                                            \n",
       "2023-08-31     -37.749756     -10.407532 -1.326050      1.124359    -3.537231   \n",
       "2023-09-01       3.374268      15.606262  4.567520      5.924469     1.585693   \n",
       "2023-09-04     -23.471436      -4.985840  2.652100      9.427292     4.805847   \n",
       "2023-09-05     -11.980469       7.411987 -0.834961      6.529877    -4.708252   \n",
       "2023-09-06       1.955811       4.228394 -1.375137      0.389206    10.050659   \n",
       "\n",
       "Ticker        INFY.NS    ITC.NS      LT.NS  RELIANCE.NS     TCS.NS  \n",
       "Date                                                                \n",
       "2023-08-31   0.284546 -2.901764  -6.193115    -5.484497 -33.090576  \n",
       "2023-09-01   7.972412  1.263672  -0.589844     2.804077  21.705322  \n",
       "2023-09-04  20.167725 -3.322998   8.847412    -0.967773  38.080811  \n",
       "2023-09-05  13.097534  5.241913  21.479004     6.402832  10.513672  \n",
       "2023-09-06  -1.376343  4.071869  -2.457520     2.531128   0.532959  "
      ]
     },
     "execution_count": 10,
     "metadata": {},
     "output_type": "execute_result"
    }
   ],
   "source": [
    "returns = returns.dropna()\n",
    "\n",
    "returns.head()"
   ]
  },
  {
   "cell_type": "code",
   "execution_count": 11,
   "id": "6c68bea6",
   "metadata": {},
   "outputs": [],
   "source": [
    "import numpy as np\n",
    "\n",
    "mu = [] # expected returns\n",
    "\n",
    "for stock in stocks:\n",
    "    mean = np.mean(returns[stock])\n",
    "    mu.append(mean)"
   ]
  },
  {
   "cell_type": "code",
   "execution_count": 35,
   "id": "cc162c9d",
   "metadata": {},
   "outputs": [],
   "source": [
    "mu = np.array(mu) *247"
   ]
  },
  {
   "cell_type": "code",
   "execution_count": 36,
   "id": "a91bde2b",
   "metadata": {},
   "outputs": [
    {
     "data": {
      "text/plain": [
       "array([  41.72479248,   74.97775269, 1117.73754883,  308.3828125 ,\n",
       "        267.59524536,  512.36450195,    6.73803711,  -25.51147461,\n",
       "        954.03149414,  164.45269775])"
      ]
     },
     "execution_count": 36,
     "metadata": {},
     "output_type": "execute_result"
    }
   ],
   "source": [
    "mu"
   ]
  },
  {
   "cell_type": "code",
   "execution_count": 37,
   "id": "136b7b83",
   "metadata": {},
   "outputs": [
    {
     "data": {
      "text/plain": [
       "(10,)"
      ]
     },
     "execution_count": 37,
     "metadata": {},
     "output_type": "execute_result"
    }
   ],
   "source": [
    "mu.shape"
   ]
  },
  {
   "cell_type": "code",
   "execution_count": 38,
   "id": "cce099dc",
   "metadata": {},
   "outputs": [],
   "source": [
    "V = np.cov(returns, rowvar=False) * 247 # covariance matrix"
   ]
  },
  {
   "cell_type": "code",
   "execution_count": 39,
   "id": "c78d3e65",
   "metadata": {},
   "outputs": [
    {
     "data": {
      "text/plain": [
       "array([[290272.8379343 ,  27847.20417162,   6920.19979489,\n",
       "         13391.52775042,  24070.26358832,  23678.52127272,\n",
       "         11384.90745016, 110761.08928844,  38132.76648614,\n",
       "         83021.65502552],\n",
       "       [ 27847.20417162,  30577.78547728,   5520.11946248,\n",
       "          6901.9290754 ,   8770.34895145,  12168.3181607 ,\n",
       "          3902.78342574,  65745.96708899,  20267.1871597 ,\n",
       "         22929.33442317],\n",
       "       [  6920.19979489,   5520.11946248,   9508.50107802,\n",
       "          8830.57188552,   4994.50150756,   4037.29751567,\n",
       "          1174.85406592,  57809.95495479,  14460.75525757,\n",
       "          3129.28795017],\n",
       "       [ 13391.52775042,   6901.9290754 ,   8830.57188552,\n",
       "         18973.73424759,   5672.51275988,   6357.89641461,\n",
       "          2286.29791658,  67974.92664765,  20859.32643072,\n",
       "         12184.27361327],\n",
       "       [ 24070.26358832,   8770.34895145,   4994.50150756,\n",
       "          5672.51275988,  27323.86541692,   8680.03679929,\n",
       "          1601.77255419,  50126.71292938,  14292.39217818,\n",
       "          9708.15504349],\n",
       "       [ 23678.52127272,  12168.3181607 ,   4037.29751567,\n",
       "          6357.89641461,   8680.03679929, 108740.35085158,\n",
       "          5229.59775903,  77152.00973587,  16765.81389981,\n",
       "        180814.42918418],\n",
       "       [ 11384.90745016,   3902.78342574,   1174.85406592,\n",
       "          2286.29791658,   1601.77255419,   5229.59775903,\n",
       "          5891.2400941 ,  12479.61942849,   5698.54143797,\n",
       "          9380.72834386],\n",
       "       [110761.08928844,  65745.96708899,  57809.95495479,\n",
       "         67974.92664765,  50126.71292938,  77152.00973587,\n",
       "         12479.61942849, 871145.73364407, 148311.60874   ,\n",
       "        177064.92552413],\n",
       "       [ 38132.76648614,  20267.1871597 ,  14460.75525757,\n",
       "         20859.32643072,  14292.39217818,  16765.81389981,\n",
       "          5698.54143797, 148311.60874   ,  86222.62106818,\n",
       "         46539.35152926],\n",
       "       [ 83021.65502552,  22929.33442317,   3129.28795017,\n",
       "         12184.27361327,   9708.15504349, 180814.42918418,\n",
       "          9380.72834386, 177064.92552413,  46539.35152926,\n",
       "        598920.50342788]])"
      ]
     },
     "execution_count": 39,
     "metadata": {},
     "output_type": "execute_result"
    }
   ],
   "source": [
    "V"
   ]
  },
  {
   "cell_type": "code",
   "execution_count": 40,
   "id": "c1bb7c68",
   "metadata": {},
   "outputs": [
    {
     "data": {
      "text/plain": [
       "(10, 10)"
      ]
     },
     "execution_count": 40,
     "metadata": {},
     "output_type": "execute_result"
    }
   ],
   "source": [
    "V.shape"
   ]
  },
  {
   "cell_type": "code",
   "execution_count": 41,
   "id": "0c378a5a",
   "metadata": {},
   "outputs": [],
   "source": [
    "inv_V = np.linalg.inv(V)"
   ]
  },
  {
   "cell_type": "code",
   "execution_count": 42,
   "id": "9e5103fb",
   "metadata": {},
   "outputs": [
    {
     "data": {
      "text/plain": [
       "array([[ 4.24882285e-06, -1.97784131e-06,  2.10746317e-06,\n",
       "        -8.29883852e-07, -2.61464708e-06,  8.16238221e-07,\n",
       "        -5.45877470e-06, -1.26060228e-07, -4.14200877e-07,\n",
       "        -5.56462045e-07],\n",
       "       [-1.97784131e-06,  4.55421691e-05, -4.18309946e-06,\n",
       "         1.52224010e-06, -5.67813733e-06, -2.09375394e-06,\n",
       "        -1.54209841e-05, -1.57592281e-06, -4.58569760e-06,\n",
       "         3.09416752e-07],\n",
       "       [ 2.10746317e-06, -4.18309946e-06,  2.47636549e-04,\n",
       "        -7.11997309e-05, -9.70461410e-06, -4.72936524e-06,\n",
       "         4.02248068e-06, -9.50729911e-06, -8.34079978e-06,\n",
       "         5.00357514e-06],\n",
       "       [-8.29883852e-07,  1.52224010e-06, -7.11997309e-05,\n",
       "         1.03317933e-04,  3.15738718e-07,  4.54613842e-07,\n",
       "        -1.26997253e-05, -1.51749077e-06, -9.50406299e-06,\n",
       "        -4.29407760e-07],\n",
       "       [-2.61464708e-06, -5.67813733e-06, -9.70461410e-06,\n",
       "         3.15738718e-07,  4.56604585e-05, -3.47709258e-06,\n",
       "         3.24781812e-06, -8.63081505e-07, -2.29077226e-06,\n",
       "         1.31600945e-06],\n",
       "       [ 8.16238221e-07, -2.09375394e-06, -4.72936524e-06,\n",
       "         4.54613842e-07, -3.47709258e-06,  1.96469167e-05,\n",
       "        -7.73628603e-06, -1.69084219e-07,  1.52469828e-06,\n",
       "        -5.83989711e-06],\n",
       "       [-5.45877470e-06, -1.54209841e-05,  4.02248068e-06,\n",
       "        -1.26997253e-05,  3.24781812e-06, -7.73628603e-06,\n",
       "         2.03098981e-04,  1.07368644e-06, -6.33184898e-06,\n",
       "         8.60869230e-07],\n",
       "       [-1.26060228e-07, -1.57592281e-06, -9.50729911e-06,\n",
       "        -1.51749077e-06, -8.63081505e-07, -1.69084219e-07,\n",
       "         1.07368644e-06,  2.40520056e-06, -1.43215591e-06,\n",
       "        -3.93214167e-07],\n",
       "       [-4.14200877e-07, -4.58569760e-06, -8.34079978e-06,\n",
       "        -9.50406299e-06, -2.29077226e-06,  1.52469828e-06,\n",
       "        -6.33184898e-06, -1.43215591e-06,  2.00561882e-05,\n",
       "        -9.89167723e-07],\n",
       "       [-5.56462045e-07,  3.09416752e-07,  5.00357514e-06,\n",
       "        -4.29407760e-07,  1.31600945e-06, -5.83989711e-06,\n",
       "         8.60869230e-07, -3.93214167e-07, -9.89167723e-07,\n",
       "         3.63891999e-06]])"
      ]
     },
     "execution_count": 42,
     "metadata": {},
     "output_type": "execute_result"
    }
   ],
   "source": [
    "inv_V"
   ]
  },
  {
   "cell_type": "code",
   "execution_count": 43,
   "id": "0002d22f",
   "metadata": {},
   "outputs": [
    {
     "data": {
      "text/plain": [
       "(10, 10)"
      ]
     },
     "execution_count": 43,
     "metadata": {},
     "output_type": "execute_result"
    }
   ],
   "source": [
    "inv_V.shape"
   ]
  },
  {
   "cell_type": "code",
   "execution_count": 24,
   "id": "f1c6c660",
   "metadata": {},
   "outputs": [],
   "source": [
    "ones = np.ones(10)"
   ]
  },
  {
   "cell_type": "code",
   "execution_count": 25,
   "id": "e9d3a6d4",
   "metadata": {},
   "outputs": [
    {
     "data": {
      "text/plain": [
       "(10,)"
      ]
     },
     "execution_count": 25,
     "metadata": {},
     "output_type": "execute_result"
    }
   ],
   "source": [
    "ones.shape"
   ]
  },
  {
   "cell_type": "code",
   "execution_count": 44,
   "id": "d2c8e971",
   "metadata": {},
   "outputs": [],
   "source": [
    "# Estimating optimal mean and variance\n",
    "\n",
    "A = mu.T @ inv_V @ mu\n",
    "B = mu.T @ inv_V @ ones\n",
    "C = ones.T @ inv_V @ones"
   ]
  },
  {
   "cell_type": "code",
   "execution_count": 45,
   "id": "b20c954a",
   "metadata": {},
   "outputs": [
    {
     "name": "stdout",
     "output_type": "stream",
     "text": [
      "A: 261.7152570280054\n",
      "B: 0.16876170505284835\n",
      "C: 0.0003350607105947639\n"
     ]
    }
   ],
   "source": [
    "print(f\"A: {A}\\nB: {B}\\nC: {C}\")"
   ]
  },
  {
   "cell_type": "code",
   "execution_count": 46,
   "id": "c1241a5a",
   "metadata": {},
   "outputs": [
    {
     "name": "stdout",
     "output_type": "stream",
     "text": [
      "D: 0.05920998690095018\n"
     ]
    }
   ],
   "source": [
    "D = A*C - B**2\n",
    "print(f\"D: {D}\")"
   ]
  },
  {
   "cell_type": "code",
   "execution_count": 48,
   "id": "4a471f14",
   "metadata": {},
   "outputs": [
    {
     "name": "stdout",
     "output_type": "stream",
     "text": [
      "delta_1 = 280.09250960363255\n",
      "delta_2 = -138091.06239615128\n"
     ]
    }
   ],
   "source": [
    "b = 50000\n",
    "delta_1 = (1/D) * (b * C - B)\n",
    "delta_2 = (1/D) * (A - b * B)\n",
    "\n",
    "print(f\"delta_1 = {delta_1}\\ndelta_2 = {delta_2}\")"
   ]
  },
  {
   "cell_type": "code",
   "execution_count": 49,
   "id": "308461d6",
   "metadata": {},
   "outputs": [
    {
     "name": "stdout",
     "output_type": "stream",
     "text": [
      "[  1.03524757  -3.83737758  47.1192488  -17.12993884  -4.35482177\n",
      "   1.42951748 -25.10632435  -1.97536517   3.52547116   0.29434268]\n"
     ]
    }
   ],
   "source": [
    "w_opt = inv_V @ (delta_1 * mu + delta_2 * ones)\n",
    "\n",
    "print(w_opt)"
   ]
  },
  {
   "cell_type": "code",
   "execution_count": 52,
   "id": "b7f297d6",
   "metadata": {},
   "outputs": [
    {
     "data": {
      "text/plain": [
       "(10,)"
      ]
     },
     "execution_count": 52,
     "metadata": {},
     "output_type": "execute_result"
    }
   ],
   "source": [
    "w_opt.shape"
   ]
  },
  {
   "cell_type": "code",
   "execution_count": 51,
   "id": "0b0fdf13",
   "metadata": {},
   "outputs": [
    {
     "name": "stdout",
     "output_type": "stream",
     "text": [
      "0.9999999999999833\n"
     ]
    }
   ],
   "source": [
    "sum = 0\n",
    "\n",
    "for i in w_opt:\n",
    "    sum += i\n",
    "    \n",
    "print(sum) # should be 1"
   ]
  },
  {
   "cell_type": "code",
   "execution_count": 53,
   "id": "df94b54b",
   "metadata": {},
   "outputs": [],
   "source": [
    "estimated_returns = w_opt.T @ mu\n",
    "minimized_variance = w_opt.T @ V @ w_opt"
   ]
  },
  {
   "cell_type": "code",
   "execution_count": 54,
   "id": "998c5064",
   "metadata": {},
   "outputs": [
    {
     "data": {
      "text/plain": [
       "np.float64(49999.99999999999)"
      ]
     },
     "execution_count": 54,
     "metadata": {},
     "output_type": "execute_result"
    }
   ],
   "source": [
    "estimated_returns"
   ]
  },
  {
   "cell_type": "code",
   "execution_count": 55,
   "id": "9e382c3c",
   "metadata": {},
   "outputs": [
    {
     "data": {
      "text/plain": [
       "np.float64(13866534.417785475)"
      ]
     },
     "execution_count": 55,
     "metadata": {},
     "output_type": "execute_result"
    }
   ],
   "source": [
    "minimized_variance"
   ]
  }
 ],
 "metadata": {
  "kernelspec": {
   "display_name": "Python 3",
   "language": "python",
   "name": "python3"
  },
  "language_info": {
   "codemirror_mode": {
    "name": "ipython",
    "version": 3
   },
   "file_extension": ".py",
   "mimetype": "text/x-python",
   "name": "python",
   "nbconvert_exporter": "python",
   "pygments_lexer": "ipython3",
   "version": "3.13.5"
  }
 },
 "nbformat": 4,
 "nbformat_minor": 5
}
