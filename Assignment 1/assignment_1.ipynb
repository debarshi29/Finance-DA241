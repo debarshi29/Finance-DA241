{
 "cells": [
  {
   "cell_type": "code",
   "execution_count": null,
   "id": "73e39a02",
   "metadata": {},
   "outputs": [],
   "source": [
    "class Interest:\n",
    "    def __init__(self, bank, fixed, variable):\n",
    "        self.bank = bank\n",
    "        self.fixed_rate= fixed\n",
    "        self.variable_rate = variable"
   ]
  }
 ],
 "metadata": {
  "language_info": {
   "name": "python"
  }
 },
 "nbformat": 4,
 "nbformat_minor": 5
}
