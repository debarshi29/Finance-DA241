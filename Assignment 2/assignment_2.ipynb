{
 "cells": [
  {
   "cell_type": "code",
   "execution_count": 1,
   "id": "57797ade",
   "metadata": {},
   "outputs": [],
   "source": [
    "import warnings\n",
    "warnings.filterwarnings('ignore')"
   ]
  },
  {
   "cell_type": "code",
   "execution_count": 2,
   "id": "c8e61701",
   "metadata": {},
   "outputs": [
    {
     "name": "stderr",
     "output_type": "stream",
     "text": [
      "[*********************100%***********************]  10 of 10 completed\n"
     ]
    }
   ],
   "source": [
    "import yfinance as yf\n",
    "import pandas as pd\n",
    "\n",
    "# Download 10 stock data\n",
    "START_DATE = \"2023-08-30\"\n",
    "END_DATE = \"2025-08-30\"\n",
    "\n",
    "stocks = [\n",
    "    'HDFCBANK.NS',  # HDFC Bank Ltd.\n",
    "    'ITC.NS',       # ITC Ltd.      \n",
    "    'TCS.NS',       # Tata Consultancy Services\n",
    "    'RELIANCE.NS',  # Reliance Industries Ltd.\n",
    "    'COALINDIA.NS', # Coal India Ltd.\n",
    "    'INFY.NS',      # Infosys Ltd.\n",
    "    'BAJFINANCE.NS',# Bajaj Finance Ltd.\n",
    "    'ASIANPAINT.NS',# Asian Paints Ltd.\n",
    "    'LT.NS',        # Larsen & Toubro Ltd.\n",
    "    'BEL.NS'        # Bharat Electronics Ltd.\n",
    "]\n",
    "\n",
    "\n",
    "raw_data = yf.download(stocks, start = START_DATE, end = END_DATE)\n",
    "\n",
    "data = raw_data['Close']"
   ]
  },
  {
   "cell_type": "code",
   "execution_count": 3,
   "id": "6dd696b3",
   "metadata": {},
   "outputs": [
    {
     "data": {
      "text/html": [
       "<div>\n",
       "<style scoped>\n",
       "    .dataframe tbody tr th:only-of-type {\n",
       "        vertical-align: middle;\n",
       "    }\n",
       "\n",
       "    .dataframe tbody tr th {\n",
       "        vertical-align: top;\n",
       "    }\n",
       "\n",
       "    .dataframe thead th {\n",
       "        text-align: right;\n",
       "    }\n",
       "</style>\n",
       "<table border=\"1\" class=\"dataframe\">\n",
       "  <thead>\n",
       "    <tr style=\"text-align: right;\">\n",
       "      <th>Ticker</th>\n",
       "      <th>ASIANPAINT.NS</th>\n",
       "      <th>BAJFINANCE.NS</th>\n",
       "      <th>BEL.NS</th>\n",
       "      <th>COALINDIA.NS</th>\n",
       "      <th>HDFCBANK.NS</th>\n",
       "      <th>INFY.NS</th>\n",
       "      <th>ITC.NS</th>\n",
       "      <th>LT.NS</th>\n",
       "      <th>RELIANCE.NS</th>\n",
       "      <th>TCS.NS</th>\n",
       "    </tr>\n",
       "    <tr>\n",
       "      <th>Date</th>\n",
       "      <th></th>\n",
       "      <th></th>\n",
       "      <th></th>\n",
       "      <th></th>\n",
       "      <th></th>\n",
       "      <th></th>\n",
       "      <th></th>\n",
       "      <th></th>\n",
       "      <th></th>\n",
       "      <th></th>\n",
       "    </tr>\n",
       "  </thead>\n",
       "  <tbody>\n",
       "    <tr>\n",
       "      <th>2023-08-30</th>\n",
       "      <td>3222.139160</td>\n",
       "      <td>719.722351</td>\n",
       "      <td>132.162613</td>\n",
       "      <td>197.842972</td>\n",
       "      <td>770.242737</td>\n",
       "      <td>1362.069092</td>\n",
       "      <td>414.485626</td>\n",
       "      <td>2663.034668</td>\n",
       "      <td>1200.142212</td>\n",
       "      <td>3285.771484</td>\n",
       "    </tr>\n",
       "    <tr>\n",
       "      <th>2023-08-31</th>\n",
       "      <td>3184.389160</td>\n",
       "      <td>709.314819</td>\n",
       "      <td>130.836563</td>\n",
       "      <td>198.967316</td>\n",
       "      <td>766.705505</td>\n",
       "      <td>1362.353638</td>\n",
       "      <td>411.583862</td>\n",
       "      <td>2656.841553</td>\n",
       "      <td>1194.657715</td>\n",
       "      <td>3252.680664</td>\n",
       "    </tr>\n",
       "    <tr>\n",
       "      <th>2023-09-01</th>\n",
       "      <td>3187.763184</td>\n",
       "      <td>724.921143</td>\n",
       "      <td>135.404068</td>\n",
       "      <td>204.891769</td>\n",
       "      <td>768.291199</td>\n",
       "      <td>1370.326050</td>\n",
       "      <td>412.847534</td>\n",
       "      <td>2656.251709</td>\n",
       "      <td>1197.461914</td>\n",
       "      <td>3274.385498</td>\n",
       "    </tr>\n",
       "    <tr>\n",
       "      <th>2023-09-04</th>\n",
       "      <td>3164.291992</td>\n",
       "      <td>719.935303</td>\n",
       "      <td>138.056168</td>\n",
       "      <td>214.319077</td>\n",
       "      <td>773.097046</td>\n",
       "      <td>1390.493774</td>\n",
       "      <td>409.524536</td>\n",
       "      <td>2665.099121</td>\n",
       "      <td>1196.494141</td>\n",
       "      <td>3312.466797</td>\n",
       "    </tr>\n",
       "    <tr>\n",
       "      <th>2023-09-05</th>\n",
       "      <td>3152.311523</td>\n",
       "      <td>727.347290</td>\n",
       "      <td>137.221222</td>\n",
       "      <td>220.848969</td>\n",
       "      <td>768.388794</td>\n",
       "      <td>1403.591187</td>\n",
       "      <td>414.766449</td>\n",
       "      <td>2686.578125</td>\n",
       "      <td>1202.896851</td>\n",
       "      <td>3322.980713</td>\n",
       "    </tr>\n",
       "  </tbody>\n",
       "</table>\n",
       "</div>"
      ],
      "text/plain": [
       "Ticker      ASIANPAINT.NS  BAJFINANCE.NS      BEL.NS  COALINDIA.NS  \\\n",
       "Date                                                                 \n",
       "2023-08-30    3222.139160     719.722351  132.162613    197.842972   \n",
       "2023-08-31    3184.389160     709.314819  130.836563    198.967316   \n",
       "2023-09-01    3187.763184     724.921143  135.404068    204.891769   \n",
       "2023-09-04    3164.291992     719.935303  138.056168    214.319077   \n",
       "2023-09-05    3152.311523     727.347290  137.221222    220.848969   \n",
       "\n",
       "Ticker      HDFCBANK.NS      INFY.NS      ITC.NS        LT.NS  RELIANCE.NS  \\\n",
       "Date                                                                         \n",
       "2023-08-30   770.242737  1362.069092  414.485626  2663.034668  1200.142212   \n",
       "2023-08-31   766.705505  1362.353638  411.583862  2656.841553  1194.657715   \n",
       "2023-09-01   768.291199  1370.326050  412.847534  2656.251709  1197.461914   \n",
       "2023-09-04   773.097046  1390.493774  409.524536  2665.099121  1196.494141   \n",
       "2023-09-05   768.388794  1403.591187  414.766449  2686.578125  1202.896851   \n",
       "\n",
       "Ticker           TCS.NS  \n",
       "Date                     \n",
       "2023-08-30  3285.771484  \n",
       "2023-08-31  3252.680664  \n",
       "2023-09-01  3274.385498  \n",
       "2023-09-04  3312.466797  \n",
       "2023-09-05  3322.980713  "
      ]
     },
     "execution_count": 3,
     "metadata": {},
     "output_type": "execute_result"
    }
   ],
   "source": [
    "data.head()"
   ]
  },
  {
   "cell_type": "code",
   "execution_count": 4,
   "id": "555fb54e",
   "metadata": {},
   "outputs": [
    {
     "data": {
      "text/plain": [
       "Ticker\n",
       "ASIANPAINT.NS    494\n",
       "BAJFINANCE.NS    494\n",
       "BEL.NS           494\n",
       "COALINDIA.NS     494\n",
       "HDFCBANK.NS      494\n",
       "INFY.NS          494\n",
       "ITC.NS           494\n",
       "LT.NS            494\n",
       "RELIANCE.NS      494\n",
       "TCS.NS           494\n",
       "dtype: int64"
      ]
     },
     "execution_count": 4,
     "metadata": {},
     "output_type": "execute_result"
    }
   ],
   "source": [
    "data.count()"
   ]
  },
  {
   "cell_type": "code",
   "execution_count": 5,
   "id": "8eb3c1e0",
   "metadata": {},
   "outputs": [
    {
     "data": {
      "text/plain": [
       "np.False_"
      ]
     },
     "execution_count": 5,
     "metadata": {},
     "output_type": "execute_result"
    }
   ],
   "source": [
    "data.isnull().values.any()"
   ]
  },
  {
   "cell_type": "code",
   "execution_count": 6,
   "id": "a02a4cf0",
   "metadata": {},
   "outputs": [
    {
     "data": {
      "text/html": [
       "<div>\n",
       "<style scoped>\n",
       "    .dataframe tbody tr th:only-of-type {\n",
       "        vertical-align: middle;\n",
       "    }\n",
       "\n",
       "    .dataframe tbody tr th {\n",
       "        vertical-align: top;\n",
       "    }\n",
       "\n",
       "    .dataframe thead th {\n",
       "        text-align: right;\n",
       "    }\n",
       "</style>\n",
       "<table border=\"1\" class=\"dataframe\">\n",
       "  <thead>\n",
       "    <tr style=\"text-align: right;\">\n",
       "      <th>Ticker</th>\n",
       "      <th>ASIANPAINT.NS</th>\n",
       "      <th>BAJFINANCE.NS</th>\n",
       "      <th>BEL.NS</th>\n",
       "      <th>COALINDIA.NS</th>\n",
       "      <th>HDFCBANK.NS</th>\n",
       "      <th>INFY.NS</th>\n",
       "      <th>ITC.NS</th>\n",
       "      <th>LT.NS</th>\n",
       "      <th>RELIANCE.NS</th>\n",
       "      <th>TCS.NS</th>\n",
       "    </tr>\n",
       "    <tr>\n",
       "      <th>Date</th>\n",
       "      <th></th>\n",
       "      <th></th>\n",
       "      <th></th>\n",
       "      <th></th>\n",
       "      <th></th>\n",
       "      <th></th>\n",
       "      <th></th>\n",
       "      <th></th>\n",
       "      <th></th>\n",
       "      <th></th>\n",
       "    </tr>\n",
       "  </thead>\n",
       "  <tbody>\n",
       "    <tr>\n",
       "      <th>2023-08-30</th>\n",
       "      <td>3222.139160</td>\n",
       "      <td>719.722351</td>\n",
       "      <td>132.162613</td>\n",
       "      <td>197.842972</td>\n",
       "      <td>770.242737</td>\n",
       "      <td>1362.069092</td>\n",
       "      <td>414.485626</td>\n",
       "      <td>2663.034668</td>\n",
       "      <td>1200.142212</td>\n",
       "      <td>3285.771484</td>\n",
       "    </tr>\n",
       "    <tr>\n",
       "      <th>2023-08-31</th>\n",
       "      <td>3184.389160</td>\n",
       "      <td>709.314819</td>\n",
       "      <td>130.836563</td>\n",
       "      <td>198.967316</td>\n",
       "      <td>766.705505</td>\n",
       "      <td>1362.353638</td>\n",
       "      <td>411.583862</td>\n",
       "      <td>2656.841553</td>\n",
       "      <td>1194.657715</td>\n",
       "      <td>3252.680664</td>\n",
       "    </tr>\n",
       "    <tr>\n",
       "      <th>2023-09-01</th>\n",
       "      <td>3187.763184</td>\n",
       "      <td>724.921143</td>\n",
       "      <td>135.404068</td>\n",
       "      <td>204.891769</td>\n",
       "      <td>768.291199</td>\n",
       "      <td>1370.326050</td>\n",
       "      <td>412.847534</td>\n",
       "      <td>2656.251709</td>\n",
       "      <td>1197.461914</td>\n",
       "      <td>3274.385498</td>\n",
       "    </tr>\n",
       "    <tr>\n",
       "      <th>2023-09-04</th>\n",
       "      <td>3164.291992</td>\n",
       "      <td>719.935303</td>\n",
       "      <td>138.056168</td>\n",
       "      <td>214.319077</td>\n",
       "      <td>773.097046</td>\n",
       "      <td>1390.493774</td>\n",
       "      <td>409.524536</td>\n",
       "      <td>2665.099121</td>\n",
       "      <td>1196.494141</td>\n",
       "      <td>3312.466797</td>\n",
       "    </tr>\n",
       "    <tr>\n",
       "      <th>2023-09-05</th>\n",
       "      <td>3152.311523</td>\n",
       "      <td>727.347290</td>\n",
       "      <td>137.221222</td>\n",
       "      <td>220.848969</td>\n",
       "      <td>768.388794</td>\n",
       "      <td>1403.591187</td>\n",
       "      <td>414.766449</td>\n",
       "      <td>2686.578125</td>\n",
       "      <td>1202.896851</td>\n",
       "      <td>3322.980713</td>\n",
       "    </tr>\n",
       "  </tbody>\n",
       "</table>\n",
       "</div>"
      ],
      "text/plain": [
       "Ticker      ASIANPAINT.NS  BAJFINANCE.NS      BEL.NS  COALINDIA.NS  \\\n",
       "Date                                                                 \n",
       "2023-08-30    3222.139160     719.722351  132.162613    197.842972   \n",
       "2023-08-31    3184.389160     709.314819  130.836563    198.967316   \n",
       "2023-09-01    3187.763184     724.921143  135.404068    204.891769   \n",
       "2023-09-04    3164.291992     719.935303  138.056168    214.319077   \n",
       "2023-09-05    3152.311523     727.347290  137.221222    220.848969   \n",
       "\n",
       "Ticker      HDFCBANK.NS      INFY.NS      ITC.NS        LT.NS  RELIANCE.NS  \\\n",
       "Date                                                                         \n",
       "2023-08-30   770.242737  1362.069092  414.485626  2663.034668  1200.142212   \n",
       "2023-08-31   766.705505  1362.353638  411.583862  2656.841553  1194.657715   \n",
       "2023-09-01   768.291199  1370.326050  412.847534  2656.251709  1197.461914   \n",
       "2023-09-04   773.097046  1390.493774  409.524536  2665.099121  1196.494141   \n",
       "2023-09-05   768.388794  1403.591187  414.766449  2686.578125  1202.896851   \n",
       "\n",
       "Ticker           TCS.NS  \n",
       "Date                     \n",
       "2023-08-30  3285.771484  \n",
       "2023-08-31  3252.680664  \n",
       "2023-09-01  3274.385498  \n",
       "2023-09-04  3312.466797  \n",
       "2023-09-05  3322.980713  "
      ]
     },
     "execution_count": 6,
     "metadata": {},
     "output_type": "execute_result"
    }
   ],
   "source": [
    "estimation_data = data.iloc[:248] # using half of the data for estimating mu and sigma^2\n",
    "\n",
    "estimation_data.head()"
   ]
  },
  {
   "cell_type": "code",
   "execution_count": 7,
   "id": "57a0b4b4",
   "metadata": {},
   "outputs": [
    {
     "data": {
      "text/html": [
       "<div>\n",
       "<style scoped>\n",
       "    .dataframe tbody tr th:only-of-type {\n",
       "        vertical-align: middle;\n",
       "    }\n",
       "\n",
       "    .dataframe tbody tr th {\n",
       "        vertical-align: top;\n",
       "    }\n",
       "\n",
       "    .dataframe thead th {\n",
       "        text-align: right;\n",
       "    }\n",
       "</style>\n",
       "<table border=\"1\" class=\"dataframe\">\n",
       "  <thead>\n",
       "    <tr style=\"text-align: right;\">\n",
       "      <th>Ticker</th>\n",
       "      <th>ASIANPAINT.NS</th>\n",
       "      <th>BAJFINANCE.NS</th>\n",
       "      <th>BEL.NS</th>\n",
       "      <th>COALINDIA.NS</th>\n",
       "      <th>HDFCBANK.NS</th>\n",
       "      <th>INFY.NS</th>\n",
       "      <th>ITC.NS</th>\n",
       "      <th>LT.NS</th>\n",
       "      <th>RELIANCE.NS</th>\n",
       "      <th>TCS.NS</th>\n",
       "    </tr>\n",
       "    <tr>\n",
       "      <th>Date</th>\n",
       "      <th></th>\n",
       "      <th></th>\n",
       "      <th></th>\n",
       "      <th></th>\n",
       "      <th></th>\n",
       "      <th></th>\n",
       "      <th></th>\n",
       "      <th></th>\n",
       "      <th></th>\n",
       "      <th></th>\n",
       "    </tr>\n",
       "  </thead>\n",
       "  <tbody>\n",
       "    <tr>\n",
       "      <th>2023-08-30</th>\n",
       "      <td>NaN</td>\n",
       "      <td>NaN</td>\n",
       "      <td>NaN</td>\n",
       "      <td>NaN</td>\n",
       "      <td>NaN</td>\n",
       "      <td>NaN</td>\n",
       "      <td>NaN</td>\n",
       "      <td>NaN</td>\n",
       "      <td>NaN</td>\n",
       "      <td>NaN</td>\n",
       "    </tr>\n",
       "    <tr>\n",
       "      <th>2023-08-31</th>\n",
       "      <td>3222.139160</td>\n",
       "      <td>719.722351</td>\n",
       "      <td>132.162613</td>\n",
       "      <td>197.842972</td>\n",
       "      <td>770.242737</td>\n",
       "      <td>1362.069092</td>\n",
       "      <td>414.485626</td>\n",
       "      <td>2663.034668</td>\n",
       "      <td>1200.142212</td>\n",
       "      <td>3285.771484</td>\n",
       "    </tr>\n",
       "    <tr>\n",
       "      <th>2023-09-01</th>\n",
       "      <td>3184.389160</td>\n",
       "      <td>709.314819</td>\n",
       "      <td>130.836563</td>\n",
       "      <td>198.967316</td>\n",
       "      <td>766.705505</td>\n",
       "      <td>1362.353638</td>\n",
       "      <td>411.583862</td>\n",
       "      <td>2656.841553</td>\n",
       "      <td>1194.657715</td>\n",
       "      <td>3252.680664</td>\n",
       "    </tr>\n",
       "    <tr>\n",
       "      <th>2023-09-04</th>\n",
       "      <td>3187.763184</td>\n",
       "      <td>724.921143</td>\n",
       "      <td>135.404068</td>\n",
       "      <td>204.891769</td>\n",
       "      <td>768.291199</td>\n",
       "      <td>1370.326050</td>\n",
       "      <td>412.847534</td>\n",
       "      <td>2656.251709</td>\n",
       "      <td>1197.461914</td>\n",
       "      <td>3274.385498</td>\n",
       "    </tr>\n",
       "    <tr>\n",
       "      <th>2023-09-05</th>\n",
       "      <td>3164.291992</td>\n",
       "      <td>719.935303</td>\n",
       "      <td>138.056168</td>\n",
       "      <td>214.319077</td>\n",
       "      <td>773.097046</td>\n",
       "      <td>1390.493774</td>\n",
       "      <td>409.524536</td>\n",
       "      <td>2665.099121</td>\n",
       "      <td>1196.494141</td>\n",
       "      <td>3312.466797</td>\n",
       "    </tr>\n",
       "  </tbody>\n",
       "</table>\n",
       "</div>"
      ],
      "text/plain": [
       "Ticker      ASIANPAINT.NS  BAJFINANCE.NS      BEL.NS  COALINDIA.NS  \\\n",
       "Date                                                                 \n",
       "2023-08-30            NaN            NaN         NaN           NaN   \n",
       "2023-08-31    3222.139160     719.722351  132.162613    197.842972   \n",
       "2023-09-01    3184.389160     709.314819  130.836563    198.967316   \n",
       "2023-09-04    3187.763184     724.921143  135.404068    204.891769   \n",
       "2023-09-05    3164.291992     719.935303  138.056168    214.319077   \n",
       "\n",
       "Ticker      HDFCBANK.NS      INFY.NS      ITC.NS        LT.NS  RELIANCE.NS  \\\n",
       "Date                                                                         \n",
       "2023-08-30          NaN          NaN         NaN          NaN          NaN   \n",
       "2023-08-31   770.242737  1362.069092  414.485626  2663.034668  1200.142212   \n",
       "2023-09-01   766.705505  1362.353638  411.583862  2656.841553  1194.657715   \n",
       "2023-09-04   768.291199  1370.326050  412.847534  2656.251709  1197.461914   \n",
       "2023-09-05   773.097046  1390.493774  409.524536  2665.099121  1196.494141   \n",
       "\n",
       "Ticker           TCS.NS  \n",
       "Date                     \n",
       "2023-08-30          NaN  \n",
       "2023-08-31  3285.771484  \n",
       "2023-09-01  3252.680664  \n",
       "2023-09-04  3274.385498  \n",
       "2023-09-05  3312.466797  "
      ]
     },
     "execution_count": 7,
     "metadata": {},
     "output_type": "execute_result"
    }
   ],
   "source": [
    "estimation_data.shift(1).head()"
   ]
  },
  {
   "cell_type": "code",
   "execution_count": 8,
   "id": "7b07d13d",
   "metadata": {},
   "outputs": [],
   "source": [
    "returns = estimation_data - estimation_data.shift(1)"
   ]
  },
  {
   "cell_type": "code",
   "execution_count": 9,
   "id": "c7037a66",
   "metadata": {},
   "outputs": [
    {
     "data": {
      "text/html": [
       "<div>\n",
       "<style scoped>\n",
       "    .dataframe tbody tr th:only-of-type {\n",
       "        vertical-align: middle;\n",
       "    }\n",
       "\n",
       "    .dataframe tbody tr th {\n",
       "        vertical-align: top;\n",
       "    }\n",
       "\n",
       "    .dataframe thead th {\n",
       "        text-align: right;\n",
       "    }\n",
       "</style>\n",
       "<table border=\"1\" class=\"dataframe\">\n",
       "  <thead>\n",
       "    <tr style=\"text-align: right;\">\n",
       "      <th>Ticker</th>\n",
       "      <th>ASIANPAINT.NS</th>\n",
       "      <th>BAJFINANCE.NS</th>\n",
       "      <th>BEL.NS</th>\n",
       "      <th>COALINDIA.NS</th>\n",
       "      <th>HDFCBANK.NS</th>\n",
       "      <th>INFY.NS</th>\n",
       "      <th>ITC.NS</th>\n",
       "      <th>LT.NS</th>\n",
       "      <th>RELIANCE.NS</th>\n",
       "      <th>TCS.NS</th>\n",
       "    </tr>\n",
       "    <tr>\n",
       "      <th>Date</th>\n",
       "      <th></th>\n",
       "      <th></th>\n",
       "      <th></th>\n",
       "      <th></th>\n",
       "      <th></th>\n",
       "      <th></th>\n",
       "      <th></th>\n",
       "      <th></th>\n",
       "      <th></th>\n",
       "      <th></th>\n",
       "    </tr>\n",
       "  </thead>\n",
       "  <tbody>\n",
       "    <tr>\n",
       "      <th>2023-08-30</th>\n",
       "      <td>NaN</td>\n",
       "      <td>NaN</td>\n",
       "      <td>NaN</td>\n",
       "      <td>NaN</td>\n",
       "      <td>NaN</td>\n",
       "      <td>NaN</td>\n",
       "      <td>NaN</td>\n",
       "      <td>NaN</td>\n",
       "      <td>NaN</td>\n",
       "      <td>NaN</td>\n",
       "    </tr>\n",
       "    <tr>\n",
       "      <th>2023-08-31</th>\n",
       "      <td>-37.750000</td>\n",
       "      <td>-10.407532</td>\n",
       "      <td>-1.326050</td>\n",
       "      <td>1.124344</td>\n",
       "      <td>-3.537231</td>\n",
       "      <td>0.284546</td>\n",
       "      <td>-2.901764</td>\n",
       "      <td>-6.193115</td>\n",
       "      <td>-5.484497</td>\n",
       "      <td>-33.090820</td>\n",
       "    </tr>\n",
       "    <tr>\n",
       "      <th>2023-09-01</th>\n",
       "      <td>3.374023</td>\n",
       "      <td>15.606323</td>\n",
       "      <td>4.567505</td>\n",
       "      <td>5.924454</td>\n",
       "      <td>1.585693</td>\n",
       "      <td>7.972412</td>\n",
       "      <td>1.263672</td>\n",
       "      <td>-0.589844</td>\n",
       "      <td>2.804199</td>\n",
       "      <td>21.704834</td>\n",
       "    </tr>\n",
       "    <tr>\n",
       "      <th>2023-09-04</th>\n",
       "      <td>-23.471191</td>\n",
       "      <td>-4.985840</td>\n",
       "      <td>2.652100</td>\n",
       "      <td>9.427307</td>\n",
       "      <td>4.805847</td>\n",
       "      <td>20.167725</td>\n",
       "      <td>-3.322998</td>\n",
       "      <td>8.847412</td>\n",
       "      <td>-0.967773</td>\n",
       "      <td>38.081299</td>\n",
       "    </tr>\n",
       "    <tr>\n",
       "      <th>2023-09-05</th>\n",
       "      <td>-11.980469</td>\n",
       "      <td>7.411987</td>\n",
       "      <td>-0.834946</td>\n",
       "      <td>6.529892</td>\n",
       "      <td>-4.708252</td>\n",
       "      <td>13.097412</td>\n",
       "      <td>5.241913</td>\n",
       "      <td>21.479004</td>\n",
       "      <td>6.402710</td>\n",
       "      <td>10.513916</td>\n",
       "    </tr>\n",
       "  </tbody>\n",
       "</table>\n",
       "</div>"
      ],
      "text/plain": [
       "Ticker      ASIANPAINT.NS  BAJFINANCE.NS    BEL.NS  COALINDIA.NS  HDFCBANK.NS  \\\n",
       "Date                                                                            \n",
       "2023-08-30            NaN            NaN       NaN           NaN          NaN   \n",
       "2023-08-31     -37.750000     -10.407532 -1.326050      1.124344    -3.537231   \n",
       "2023-09-01       3.374023      15.606323  4.567505      5.924454     1.585693   \n",
       "2023-09-04     -23.471191      -4.985840  2.652100      9.427307     4.805847   \n",
       "2023-09-05     -11.980469       7.411987 -0.834946      6.529892    -4.708252   \n",
       "\n",
       "Ticker        INFY.NS    ITC.NS      LT.NS  RELIANCE.NS     TCS.NS  \n",
       "Date                                                                \n",
       "2023-08-30        NaN       NaN        NaN          NaN        NaN  \n",
       "2023-08-31   0.284546 -2.901764  -6.193115    -5.484497 -33.090820  \n",
       "2023-09-01   7.972412  1.263672  -0.589844     2.804199  21.704834  \n",
       "2023-09-04  20.167725 -3.322998   8.847412    -0.967773  38.081299  \n",
       "2023-09-05  13.097412  5.241913  21.479004     6.402710  10.513916  "
      ]
     },
     "execution_count": 9,
     "metadata": {},
     "output_type": "execute_result"
    }
   ],
   "source": [
    "returns.head()"
   ]
  },
  {
   "cell_type": "code",
   "execution_count": 10,
   "id": "9453dd82",
   "metadata": {},
   "outputs": [
    {
     "data": {
      "text/html": [
       "<div>\n",
       "<style scoped>\n",
       "    .dataframe tbody tr th:only-of-type {\n",
       "        vertical-align: middle;\n",
       "    }\n",
       "\n",
       "    .dataframe tbody tr th {\n",
       "        vertical-align: top;\n",
       "    }\n",
       "\n",
       "    .dataframe thead th {\n",
       "        text-align: right;\n",
       "    }\n",
       "</style>\n",
       "<table border=\"1\" class=\"dataframe\">\n",
       "  <thead>\n",
       "    <tr style=\"text-align: right;\">\n",
       "      <th>Ticker</th>\n",
       "      <th>ASIANPAINT.NS</th>\n",
       "      <th>BAJFINANCE.NS</th>\n",
       "      <th>BEL.NS</th>\n",
       "      <th>COALINDIA.NS</th>\n",
       "      <th>HDFCBANK.NS</th>\n",
       "      <th>INFY.NS</th>\n",
       "      <th>ITC.NS</th>\n",
       "      <th>LT.NS</th>\n",
       "      <th>RELIANCE.NS</th>\n",
       "      <th>TCS.NS</th>\n",
       "    </tr>\n",
       "    <tr>\n",
       "      <th>Date</th>\n",
       "      <th></th>\n",
       "      <th></th>\n",
       "      <th></th>\n",
       "      <th></th>\n",
       "      <th></th>\n",
       "      <th></th>\n",
       "      <th></th>\n",
       "      <th></th>\n",
       "      <th></th>\n",
       "      <th></th>\n",
       "    </tr>\n",
       "  </thead>\n",
       "  <tbody>\n",
       "    <tr>\n",
       "      <th>2023-08-31</th>\n",
       "      <td>-37.750000</td>\n",
       "      <td>-10.407532</td>\n",
       "      <td>-1.326050</td>\n",
       "      <td>1.124344</td>\n",
       "      <td>-3.537231</td>\n",
       "      <td>0.284546</td>\n",
       "      <td>-2.901764</td>\n",
       "      <td>-6.193115</td>\n",
       "      <td>-5.484497</td>\n",
       "      <td>-33.090820</td>\n",
       "    </tr>\n",
       "    <tr>\n",
       "      <th>2023-09-01</th>\n",
       "      <td>3.374023</td>\n",
       "      <td>15.606323</td>\n",
       "      <td>4.567505</td>\n",
       "      <td>5.924454</td>\n",
       "      <td>1.585693</td>\n",
       "      <td>7.972412</td>\n",
       "      <td>1.263672</td>\n",
       "      <td>-0.589844</td>\n",
       "      <td>2.804199</td>\n",
       "      <td>21.704834</td>\n",
       "    </tr>\n",
       "    <tr>\n",
       "      <th>2023-09-04</th>\n",
       "      <td>-23.471191</td>\n",
       "      <td>-4.985840</td>\n",
       "      <td>2.652100</td>\n",
       "      <td>9.427307</td>\n",
       "      <td>4.805847</td>\n",
       "      <td>20.167725</td>\n",
       "      <td>-3.322998</td>\n",
       "      <td>8.847412</td>\n",
       "      <td>-0.967773</td>\n",
       "      <td>38.081299</td>\n",
       "    </tr>\n",
       "    <tr>\n",
       "      <th>2023-09-05</th>\n",
       "      <td>-11.980469</td>\n",
       "      <td>7.411987</td>\n",
       "      <td>-0.834946</td>\n",
       "      <td>6.529892</td>\n",
       "      <td>-4.708252</td>\n",
       "      <td>13.097412</td>\n",
       "      <td>5.241913</td>\n",
       "      <td>21.479004</td>\n",
       "      <td>6.402710</td>\n",
       "      <td>10.513916</td>\n",
       "    </tr>\n",
       "    <tr>\n",
       "      <th>2023-09-06</th>\n",
       "      <td>1.955811</td>\n",
       "      <td>4.228394</td>\n",
       "      <td>-1.375137</td>\n",
       "      <td>0.389191</td>\n",
       "      <td>10.050659</td>\n",
       "      <td>-1.376221</td>\n",
       "      <td>4.071869</td>\n",
       "      <td>-2.457520</td>\n",
       "      <td>2.531250</td>\n",
       "      <td>0.532715</td>\n",
       "    </tr>\n",
       "  </tbody>\n",
       "</table>\n",
       "</div>"
      ],
      "text/plain": [
       "Ticker      ASIANPAINT.NS  BAJFINANCE.NS    BEL.NS  COALINDIA.NS  HDFCBANK.NS  \\\n",
       "Date                                                                            \n",
       "2023-08-31     -37.750000     -10.407532 -1.326050      1.124344    -3.537231   \n",
       "2023-09-01       3.374023      15.606323  4.567505      5.924454     1.585693   \n",
       "2023-09-04     -23.471191      -4.985840  2.652100      9.427307     4.805847   \n",
       "2023-09-05     -11.980469       7.411987 -0.834946      6.529892    -4.708252   \n",
       "2023-09-06       1.955811       4.228394 -1.375137      0.389191    10.050659   \n",
       "\n",
       "Ticker        INFY.NS    ITC.NS      LT.NS  RELIANCE.NS     TCS.NS  \n",
       "Date                                                                \n",
       "2023-08-31   0.284546 -2.901764  -6.193115    -5.484497 -33.090820  \n",
       "2023-09-01   7.972412  1.263672  -0.589844     2.804199  21.704834  \n",
       "2023-09-04  20.167725 -3.322998   8.847412    -0.967773  38.081299  \n",
       "2023-09-05  13.097412  5.241913  21.479004     6.402710  10.513916  \n",
       "2023-09-06  -1.376221  4.071869  -2.457520     2.531250   0.532715  "
      ]
     },
     "execution_count": 10,
     "metadata": {},
     "output_type": "execute_result"
    }
   ],
   "source": [
    "returns = returns.dropna()\n",
    "\n",
    "returns.head()"
   ]
  },
  {
   "cell_type": "code",
   "execution_count": 11,
   "id": "6c68bea6",
   "metadata": {},
   "outputs": [],
   "source": [
    "import numpy as np\n",
    "\n",
    "mu = [] # expected returns\n",
    "\n",
    "for stock in stocks:\n",
    "    mean = np.mean(returns[stock])\n",
    "    mu.append(mean)"
   ]
  },
  {
   "cell_type": "code",
   "execution_count": 12,
   "id": "cc162c9d",
   "metadata": {},
   "outputs": [],
   "source": [
    "mu = np.array(mu)"
   ]
  },
  {
   "cell_type": "code",
   "execution_count": 13,
   "id": "a91bde2b",
   "metadata": {},
   "outputs": [
    {
     "data": {
      "text/plain": [
       "array([ 0.16892629,  0.30355365,  4.52525225,  1.24851391,  1.0833815 ,\n",
       "        2.07435021,  0.02727975, -0.10328631,  3.86247568,  0.66580033])"
      ]
     },
     "execution_count": 13,
     "metadata": {},
     "output_type": "execute_result"
    }
   ],
   "source": [
    "mu"
   ]
  },
  {
   "cell_type": "code",
   "execution_count": 14,
   "id": "136b7b83",
   "metadata": {},
   "outputs": [
    {
     "data": {
      "text/plain": [
       "(10,)"
      ]
     },
     "execution_count": 14,
     "metadata": {},
     "output_type": "execute_result"
    }
   ],
   "source": [
    "mu.shape"
   ]
  },
  {
   "cell_type": "code",
   "execution_count": 15,
   "id": "cce099dc",
   "metadata": {},
   "outputs": [],
   "source": [
    "V = np.cov(returns, rowvar=False) # covariance matrix"
   ]
  },
  {
   "cell_type": "code",
   "execution_count": 16,
   "id": "c78d3e65",
   "metadata": {},
   "outputs": [
    {
     "data": {
      "text/plain": [
       "array([[1175.19338235,  112.74155272,   28.01695998,   54.21646312,\n",
       "          97.45036078,   95.86438675,   46.09275368,  448.42452045,\n",
       "         154.38328774,  336.11954433],\n",
       "       [ 112.74155272,  123.79680372,   22.34866707,   27.94305219,\n",
       "          35.50746297,   49.26458501,   15.80075052,  266.17824509,\n",
       "          82.05349355,   92.83162837],\n",
       "       [  28.01695998,   22.34866707,   38.49595583,   35.75128014,\n",
       "          20.22065626,   16.34532992,    4.75649559,  234.04831708,\n",
       "          58.54555953,   12.66928211],\n",
       "       [  54.21646312,   27.94305219,   35.75128014,   76.81676425,\n",
       "          22.9656176 ,   25.74052748,    9.25627281,  275.20215275,\n",
       "          84.45062621,   49.32911065],\n",
       "       [  97.45036078,   35.50746297,   20.22065626,   22.9656176 ,\n",
       "         110.62293691,   35.14191614,    6.48490913,  202.94215761,\n",
       "          57.86388925,   39.30457305],\n",
       "       [  95.86438675,   49.26458501,   16.34532992,   25.74052748,\n",
       "          35.14191614,  440.2444679 ,   21.1725022 ,  312.35676336,\n",
       "          67.8780735 ,  732.04178287],\n",
       "       [  46.09275368,   15.80075052,    4.75649559,    9.25627281,\n",
       "           6.48490913,   21.1725022 ,   23.85117447,   50.52477501,\n",
       "          23.07100334,   37.97836937],\n",
       "       [ 448.42452045,  266.17824509,  234.04831708,  275.20215275,\n",
       "         202.94215761,  312.35676336,   50.52477501, 3526.90580423,\n",
       "         600.45145732,  716.86308834],\n",
       "       [ 154.38328774,   82.05349355,   58.54555953,   84.45062621,\n",
       "          57.86388925,   67.8780735 ,   23.07100334,  600.45145732,\n",
       "         349.07904308,  188.41827623],\n",
       "       [ 336.11954433,   92.83162837,   12.66928211,   49.32911065,\n",
       "          39.30457305,  732.04178287,   37.97836937,  716.86308834,\n",
       "         188.41827623, 2424.77713776]])"
      ]
     },
     "execution_count": 16,
     "metadata": {},
     "output_type": "execute_result"
    }
   ],
   "source": [
    "V"
   ]
  },
  {
   "cell_type": "code",
   "execution_count": 17,
   "id": "c1bb7c68",
   "metadata": {},
   "outputs": [
    {
     "data": {
      "text/plain": [
       "(10, 10)"
      ]
     },
     "execution_count": 17,
     "metadata": {},
     "output_type": "execute_result"
    }
   ],
   "source": [
    "V.shape"
   ]
  },
  {
   "cell_type": "code",
   "execution_count": 18,
   "id": "0c378a5a",
   "metadata": {},
   "outputs": [],
   "source": [
    "inv_V = np.linalg.inv(V)"
   ]
  },
  {
   "cell_type": "code",
   "execution_count": 19,
   "id": "9e5103fb",
   "metadata": {},
   "outputs": [
    {
     "data": {
      "text/plain": [
       "array([[ 1.04945907e-03, -4.88524703e-04,  5.20538399e-04,\n",
       "        -2.04976165e-04, -6.45817606e-04,  2.01611388e-04,\n",
       "        -1.34832234e-03, -3.11366845e-05, -1.02307757e-04,\n",
       "        -1.37446288e-04],\n",
       "       [-4.88524703e-04,  1.12489080e-02, -1.03321575e-03,\n",
       "         3.75989671e-04, -1.40249582e-03, -5.17154748e-04,\n",
       "        -3.80897940e-03, -3.89253202e-04, -1.13267243e-03,\n",
       "         7.64238341e-05],\n",
       "       [ 5.20538399e-04, -1.03321575e-03,  6.11661413e-02,\n",
       "        -1.75862713e-02, -2.39704835e-03, -1.16813708e-03,\n",
       "         9.93566058e-04, -2.34829850e-03, -2.06019144e-03,\n",
       "         1.23587784e-03],\n",
       "       [-2.04976165e-04,  3.75989671e-04, -1.75862713e-02,\n",
       "         2.55194853e-02,  7.79890744e-05,  1.12288721e-04,\n",
       "        -3.13684356e-03, -3.74823267e-04, -2.34749666e-03,\n",
       "        -1.06063455e-04],\n",
       "       [-6.45817606e-04, -1.40249582e-03, -2.39704835e-03,\n",
       "         7.79890744e-05,  1.12781304e-02, -8.58839147e-04,\n",
       "         8.02214844e-04, -2.13181295e-04, -5.65818451e-04,\n",
       "         3.25052227e-04],\n",
       "       [ 2.01611388e-04, -5.17154748e-04, -1.16813708e-03,\n",
       "         1.12288721e-04, -8.58839147e-04,  4.85278441e-03,\n",
       "        -1.91088723e-03, -4.17638559e-05,  3.76594413e-04,\n",
       "        -1.44245315e-03],\n",
       "       [-1.34832234e-03, -3.80897940e-03,  9.93566058e-04,\n",
       "        -3.13684356e-03,  8.02214844e-04, -1.91088723e-03,\n",
       "         5.01654651e-02,  2.65199753e-04, -1.56396657e-03,\n",
       "         2.12648482e-04],\n",
       "       [-3.11366845e-05, -3.89253202e-04, -2.34829850e-03,\n",
       "        -3.74823267e-04, -2.13181295e-04, -4.17638559e-05,\n",
       "         2.65199753e-04,  5.94084391e-04, -3.53741937e-04,\n",
       "        -9.71240107e-05],\n",
       "       [-1.02307757e-04, -1.13267243e-03, -2.06019144e-03,\n",
       "        -2.34749666e-03, -5.65818451e-04,  3.76594413e-04,\n",
       "        -1.56396657e-03, -3.53741937e-04,  4.95388345e-03,\n",
       "        -2.44322579e-04],\n",
       "       [-1.37446288e-04,  7.64238341e-05,  1.23587784e-03,\n",
       "        -1.06063455e-04,  3.25052227e-04, -1.44245315e-03,\n",
       "         2.12648482e-04, -9.71240107e-05, -2.44322579e-04,\n",
       "         8.98813125e-04]])"
      ]
     },
     "execution_count": 19,
     "metadata": {},
     "output_type": "execute_result"
    }
   ],
   "source": [
    "inv_V"
   ]
  },
  {
   "cell_type": "code",
   "execution_count": 20,
   "id": "0002d22f",
   "metadata": {},
   "outputs": [
    {
     "data": {
      "text/plain": [
       "(10, 10)"
      ]
     },
     "execution_count": 20,
     "metadata": {},
     "output_type": "execute_result"
    }
   ],
   "source": [
    "inv_V.shape"
   ]
  },
  {
   "cell_type": "code",
   "execution_count": 21,
   "id": "f1c6c660",
   "metadata": {},
   "outputs": [],
   "source": [
    "ones = np.ones(10)"
   ]
  },
  {
   "cell_type": "code",
   "execution_count": 22,
   "id": "e9d3a6d4",
   "metadata": {},
   "outputs": [
    {
     "data": {
      "text/plain": [
       "(10,)"
      ]
     },
     "execution_count": 22,
     "metadata": {},
     "output_type": "execute_result"
    }
   ],
   "source": [
    "ones.shape"
   ]
  },
  {
   "cell_type": "code",
   "execution_count": 23,
   "id": "d2c8e971",
   "metadata": {},
   "outputs": [],
   "source": [
    "# Estimating optimal mean and variance\n",
    "\n",
    "A = mu.T @ inv_V @ mu\n",
    "B = mu.T @ inv_V @ ones\n",
    "C = ones.T @ inv_V @ones"
   ]
  },
  {
   "cell_type": "code",
   "execution_count": 24,
   "id": "b20c954a",
   "metadata": {},
   "outputs": [
    {
     "name": "stdout",
     "output_type": "stream",
     "text": [
      "A: 1.0595740681189214\n",
      "B: 0.1687615873404549\n",
      "C: 0.08275999454645533\n"
     ]
    }
   ],
   "source": [
    "print(f\"A: {A}\\nB: {B}\\nC: {C}\")"
   ]
  },
  {
   "cell_type": "code",
   "execution_count": 25,
   "id": "c1241a5a",
   "metadata": {},
   "outputs": [
    {
     "name": "stdout",
     "output_type": "stream",
     "text": [
      "D: 0.05920987073741743\n"
     ]
    }
   ],
   "source": [
    "D = A*C - B**2\n",
    "print(f\"D: {D}\")"
   ]
  },
  {
   "cell_type": "code",
   "execution_count": 33,
   "id": "5dbc811e",
   "metadata": {},
   "outputs": [],
   "source": [
    "# Plot Mean-Variance and Mean-Std.Dev Frontier (Parabolic)\n",
    "\n",
    "import matplotlib.pyplot as plt\n",
    "\n",
    "y = np.linspace(np.min(mu), np.max(mu) * 1.1, 1000) # (B/C) is the return corresponding to minimum variance w_mvp\n",
    "\n",
    "x_var = (C/D) * (y - B/C)**2 + (1/C)\n",
    "x_std = np.sqrt(x_var)"
   ]
  },
  {
   "cell_type": "code",
   "execution_count": 38,
   "id": "55c1fa5f",
   "metadata": {},
   "outputs": [
    {
     "data": {
      "image/png": "[encoded data removed]",
      "text/plain": [
       "<Figure size 1200x700 with 1 Axes>"
      ]
     },
     "metadata": {},
     "output_type": "display_data"
    }
   ],
   "source": [
    "plt.figure(figsize=(12, 7))\n",
    "\n",
    "plt.plot(x_var, y, 'b-', label='Mean-Variance Frontier')\n",
    "plt.plot(x_std, y, 'r-', label='Mean-Std.deviation Frontier')\n",
    "\n",
    "# Mark the Minimum Variance Portfolio\n",
    "plt.scatter((1/C), (B/C), marker='*', color='green', s=300, zorder=100, label='Minimum Variance Portfolio (MVP)')\n",
    "\n",
    "# Add labels and title\n",
    "plt.title('Mean-Variance vs Mean Std. Dev Efficient Frontier', fontsize=16, fontweight='bold')\n",
    "plt.ylabel('Expected Return', fontsize=12)\n",
    "plt.legend(fontsize=11)\n",
    "plt.grid(True)\n",
    "plt.show()"
   ]
  }
 ],
 "metadata": {
  "kernelspec": {
   "display_name": "Python 3",
   "language": "python",
   "name": "python3"
  },
  "language_info": {
   "codemirror_mode": {
    "name": "ipython",
    "version": 3
   },
   "file_extension": ".py",
   "mimetype": "text/x-python",
   "name": "python",
   "nbconvert_exporter": "python",
   "pygments_lexer": "ipython3",
   "version": "3.13.5"
  }
 },
 "nbformat": 4,
 "nbformat_minor": 5
}
